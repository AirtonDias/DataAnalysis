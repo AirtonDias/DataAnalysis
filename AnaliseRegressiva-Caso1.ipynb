{
 "cells": [
  {
   "cell_type": "code",
   "execution_count": 1,
   "id": "e1c64398-1089-4e41-87bd-0491e2934eee",
   "metadata": {
    "executionInfo": {
     "elapsed": 289,
     "status": "ok",
     "timestamp": 1730067840002,
     "user": {
      "displayName": "Airton Feitosa",
      "userId": "17849818755729515077"
     },
     "user_tz": 180
    },
    "id": "e1c64398-1089-4e41-87bd-0491e2934eee"
   },
   "outputs": [],
   "source": [
    "import os\n",
    "#Pacote de manipulação de dados\n",
    "import pandas as pd\n",
    "import numpy as np\n",
    "\n",
    "#PAcotes graficos\n",
    "import matplotlib.pyplot as plt\n",
    "import seaborn as sns\n",
    "\n",
    "#Pacotes de Modelagem Estatistica\n",
    "import statsmodels.api as sm"
   ]
  },
  {
   "cell_type": "markdown",
   "id": "e64021f8-9be8-427d-9ceb-852d9b28260d",
   "metadata": {
    "id": "e64021f8-9be8-427d-9ceb-852d9b28260d"
   },
   "source": [
    "# Regressao Linear Simples\n",
    "Utiliza 1 variavel explicativa (É a variavel q vai no eixo X)"
   ]
  },
  {
   "cell_type": "markdown",
   "id": "43d76c41-12c5-46e4-ac67-5779c7d0c278",
   "metadata": {
    "id": "43d76c41-12c5-46e4-ac67-5779c7d0c278"
   },
   "source": [
    "### Objetivo: resolver um problema\n",
    "\n",
    "1. Procurar determinar se existe Corelação entre informações.\n",
    "2. Imaginar um cartesiano\n",
    "3. Colocar no eixo Y a variavel qual quero ESTUDAR\n",
    "4. No eixo X vao ser os objetos que serao comparados"
   ]
  },
  {
   "cell_type": "markdown",
   "id": "b0b04b6d-13b2-49be-965d-9e98b8e01dc7",
   "metadata": {
    "id": "b0b04b6d-13b2-49be-965d-9e98b8e01dc7"
   },
   "source": [
    "A pergunta aqui é: O salario muda de acordo com os anos de educação superior?\n",
    "Se sim, é possivel construir um modelo que estime o salario de acordo com esses anos/variação?"
   ]
  },
  {
   "cell_type": "code",
   "execution_count": 24,
   "id": "03df116e-f9fe-4f89-8ac3-794c9b8ee927",
   "metadata": {},
   "outputs": [
    {
     "data": {
      "text/plain": [
       "['.ipynb_checkpoints',\n",
       " 'AnaliseRegressiva-Caso1.ipynb',\n",
       " 'base_funcionarios_v1.csv']"
      ]
     },
     "execution_count": 24,
     "metadata": {},
     "output_type": "execute_result"
    }
   ],
   "source": [
    "dirs = os.listdir()\n",
    "dirs"
   ]
  },
  {
   "cell_type": "code",
   "execution_count": 3,
   "id": "dcd45f83-6874-4707-bbf3-0890a61f1121",
   "metadata": {
    "colab": {
     "base_uri": "https://localhost:8080/",
     "height": 329
    },
    "executionInfo": {
     "elapsed": 13,
     "status": "error",
     "timestamp": 1730067840458,
     "user": {
      "displayName": "Airton Feitosa",
      "userId": "17849818755729515077"
     },
     "user_tz": 180
    },
    "id": "dcd45f83-6874-4707-bbf3-0890a61f1121",
    "outputId": "eaf08981-ae6f-4cd5-b8f3-9dab54cf26e4"
   },
   "outputs": [
    {
     "data": {
      "text/plain": [
       "(46, 2)"
      ]
     },
     "execution_count": 3,
     "metadata": {},
     "output_type": "execute_result"
    }
   ],
   "source": [
    "#Importar a base de dados\n",
    "df = pd.read_csv(\"base_funcionarios_v1.csv\", sep=\";\", index_col= \"id\")\n",
    "df.shape"
   ]
  },
  {
   "cell_type": "code",
   "execution_count": 4,
   "id": "d2d7f051-83a0-43fb-a465-684619351065",
   "metadata": {
    "executionInfo": {
     "elapsed": 12,
     "status": "aborted",
     "timestamp": 1730067840458,
     "user": {
      "displayName": "Airton Feitosa",
      "userId": "17849818755729515077"
     },
     "user_tz": 180
    },
    "id": "d2d7f051-83a0-43fb-a465-684619351065"
   },
   "outputs": [
    {
     "data": {
      "text/html": [
       "<div>\n",
       "<style scoped>\n",
       "    .dataframe tbody tr th:only-of-type {\n",
       "        vertical-align: middle;\n",
       "    }\n",
       "\n",
       "    .dataframe tbody tr th {\n",
       "        vertical-align: top;\n",
       "    }\n",
       "\n",
       "    .dataframe thead th {\n",
       "        text-align: right;\n",
       "    }\n",
       "</style>\n",
       "<table border=\"1\" class=\"dataframe\">\n",
       "  <thead>\n",
       "    <tr style=\"text-align: right;\">\n",
       "      <th></th>\n",
       "      <th>Salario</th>\n",
       "      <th>Anos_Educ_Superior</th>\n",
       "    </tr>\n",
       "    <tr>\n",
       "      <th>id</th>\n",
       "      <th></th>\n",
       "      <th></th>\n",
       "    </tr>\n",
       "  </thead>\n",
       "  <tbody>\n",
       "    <tr>\n",
       "      <th>1</th>\n",
       "      <td>5517.4</td>\n",
       "      <td>3</td>\n",
       "    </tr>\n",
       "    <tr>\n",
       "      <th>2</th>\n",
       "      <td>6399.9</td>\n",
       "      <td>4</td>\n",
       "    </tr>\n",
       "    <tr>\n",
       "      <th>3</th>\n",
       "      <td>6206.7</td>\n",
       "      <td>6</td>\n",
       "    </tr>\n",
       "    <tr>\n",
       "      <th>4</th>\n",
       "      <td>6060.6</td>\n",
       "      <td>4</td>\n",
       "    </tr>\n",
       "    <tr>\n",
       "      <th>5</th>\n",
       "      <td>6122.7</td>\n",
       "      <td>2</td>\n",
       "    </tr>\n",
       "  </tbody>\n",
       "</table>\n",
       "</div>"
      ],
      "text/plain": [
       "    Salario  Anos_Educ_Superior\n",
       "id                             \n",
       "1    5517.4                   3\n",
       "2    6399.9                   4\n",
       "3    6206.7                   6\n",
       "4    6060.6                   4\n",
       "5    6122.7                   2"
      ]
     },
     "execution_count": 4,
     "metadata": {},
     "output_type": "execute_result"
    }
   ],
   "source": [
    "df.head()"
   ]
  },
  {
   "cell_type": "code",
   "execution_count": 5,
   "id": "82c59dd2-5b9d-4c19-ba47-357bfbaeeb19",
   "metadata": {
    "executionInfo": {
     "elapsed": 11,
     "status": "aborted",
     "timestamp": 1730067840458,
     "user": {
      "displayName": "Airton Feitosa",
      "userId": "17849818755729515077"
     },
     "user_tz": 180
    },
    "id": "82c59dd2-5b9d-4c19-ba47-357bfbaeeb19"
   },
   "outputs": [
    {
     "data": {
      "text/html": [
       "<div>\n",
       "<style scoped>\n",
       "    .dataframe tbody tr th:only-of-type {\n",
       "        vertical-align: middle;\n",
       "    }\n",
       "\n",
       "    .dataframe tbody tr th {\n",
       "        vertical-align: top;\n",
       "    }\n",
       "\n",
       "    .dataframe thead th {\n",
       "        text-align: right;\n",
       "    }\n",
       "</style>\n",
       "<table border=\"1\" class=\"dataframe\">\n",
       "  <thead>\n",
       "    <tr style=\"text-align: right;\">\n",
       "      <th></th>\n",
       "      <th>Salario</th>\n",
       "      <th>Anos_Educ_Superior</th>\n",
       "    </tr>\n",
       "  </thead>\n",
       "  <tbody>\n",
       "    <tr>\n",
       "      <th>count</th>\n",
       "      <td>46.0</td>\n",
       "      <td>46.0</td>\n",
       "    </tr>\n",
       "    <tr>\n",
       "      <th>mean</th>\n",
       "      <td>6969.8</td>\n",
       "      <td>5.1</td>\n",
       "    </tr>\n",
       "    <tr>\n",
       "      <th>std</th>\n",
       "      <td>1924.9</td>\n",
       "      <td>2.8</td>\n",
       "    </tr>\n",
       "    <tr>\n",
       "      <th>min</th>\n",
       "      <td>4139.5</td>\n",
       "      <td>0.0</td>\n",
       "    </tr>\n",
       "    <tr>\n",
       "      <th>25%</th>\n",
       "      <td>5818.4</td>\n",
       "      <td>4.0</td>\n",
       "    </tr>\n",
       "    <tr>\n",
       "      <th>50%</th>\n",
       "      <td>6394.8</td>\n",
       "      <td>5.0</td>\n",
       "    </tr>\n",
       "    <tr>\n",
       "      <th>75%</th>\n",
       "      <td>7972.4</td>\n",
       "      <td>6.0</td>\n",
       "    </tr>\n",
       "    <tr>\n",
       "      <th>max</th>\n",
       "      <td>12118.1</td>\n",
       "      <td>12.0</td>\n",
       "    </tr>\n",
       "  </tbody>\n",
       "</table>\n",
       "</div>"
      ],
      "text/plain": [
       "       Salario  Anos_Educ_Superior\n",
       "count     46.0                46.0\n",
       "mean    6969.8                 5.1\n",
       "std     1924.9                 2.8\n",
       "min     4139.5                 0.0\n",
       "25%     5818.4                 4.0\n",
       "50%     6394.8                 5.0\n",
       "75%     7972.4                 6.0\n",
       "max    12118.1                12.0"
      ]
     },
     "execution_count": 5,
     "metadata": {},
     "output_type": "execute_result"
    }
   ],
   "source": [
    "#Verificação de dados iniciais\n",
    "df.describe().round(1)"
   ]
  },
  {
   "cell_type": "code",
   "execution_count": 6,
   "id": "3904c6ce-dbc4-491d-9cf6-f99fea817712",
   "metadata": {
    "executionInfo": {
     "elapsed": 11,
     "status": "aborted",
     "timestamp": 1730067840458,
     "user": {
      "displayName": "Airton Feitosa",
      "userId": "17849818755729515077"
     },
     "user_tz": 180
    },
    "id": "3904c6ce-dbc4-491d-9cf6-f99fea817712"
   },
   "outputs": [
    {
     "name": "stdout",
     "output_type": "stream",
     "text": [
      "<class 'pandas.core.frame.DataFrame'>\n",
      "Index: 46 entries, 1 to 46\n",
      "Data columns (total 2 columns):\n",
      " #   Column              Non-Null Count  Dtype  \n",
      "---  ------              --------------  -----  \n",
      " 0   Salario             46 non-null     float64\n",
      " 1   Anos_Educ_Superior  46 non-null     int64  \n",
      "dtypes: float64(1), int64(1)\n",
      "memory usage: 1.1 KB\n"
     ]
    }
   ],
   "source": [
    "df.info()"
   ]
  },
  {
   "cell_type": "code",
   "execution_count": 7,
   "id": "c678dbc0-2a59-4520-808e-9d2c5e0aeafd",
   "metadata": {
    "executionInfo": {
     "elapsed": 12,
     "status": "aborted",
     "timestamp": 1730067840459,
     "user": {
      "displayName": "Airton Feitosa",
      "userId": "17849818755729515077"
     },
     "user_tz": 180
    },
    "id": "c678dbc0-2a59-4520-808e-9d2c5e0aeafd"
   },
   "outputs": [
    {
     "data": {
      "text/plain": [
       "Salario               float64\n",
       "Anos_Educ_Superior      int64\n",
       "dtype: object"
      ]
     },
     "execution_count": 7,
     "metadata": {},
     "output_type": "execute_result"
    }
   ],
   "source": [
    "#Verificação de Tipos de Dados\n",
    "df.dtypes"
   ]
  },
  {
   "cell_type": "code",
   "execution_count": 10,
   "id": "d19d8a2b-ae97-4f67-a965-ef8d550d5b65",
   "metadata": {
    "executionInfo": {
     "elapsed": 12,
     "status": "aborted",
     "timestamp": 1730067840459,
     "user": {
      "displayName": "Airton Feitosa",
      "userId": "17849818755729515077"
     },
     "user_tz": 180
    },
    "id": "d19d8a2b-ae97-4f67-a965-ef8d550d5b65"
   },
   "outputs": [
    {
     "data": {
      "text/plain": [
       "Salario               0\n",
       "Anos_Educ_Superior    0\n",
       "dtype: int64"
      ]
     },
     "execution_count": 10,
     "metadata": {},
     "output_type": "execute_result"
    }
   ],
   "source": [
    "#Verificação de Dados Nulos\n",
    "df.isnull().sum()"
   ]
  },
  {
   "cell_type": "code",
   "execution_count": 11,
   "id": "6851d6be-c619-4eeb-a6a2-0441fef749d5",
   "metadata": {
    "executionInfo": {
     "elapsed": 11,
     "status": "aborted",
     "timestamp": 1730067840459,
     "user": {
      "displayName": "Airton Feitosa",
      "userId": "17849818755729515077"
     },
     "user_tz": 180
    },
    "id": "6851d6be-c619-4eeb-a6a2-0441fef749d5"
   },
   "outputs": [
    {
     "data": {
      "text/plain": [
       "0"
      ]
     },
     "execution_count": 11,
     "metadata": {},
     "output_type": "execute_result"
    }
   ],
   "source": [
    "#Verificação de Dados Duplicados\n",
    "df.duplicated().sum()"
   ]
  },
  {
   "cell_type": "markdown",
   "id": "648580a5-5deb-4d2f-8715-f67dbb1145b2",
   "metadata": {
    "id": "648580a5-5deb-4d2f-8715-f67dbb1145b2"
   },
   "source": [
    "# Análise Exploratoria"
   ]
  },
  {
   "cell_type": "code",
   "execution_count": 13,
   "id": "1ec41aa9-6dcf-4d69-a53e-6906b1abc155",
   "metadata": {
    "executionInfo": {
     "elapsed": 11,
     "status": "aborted",
     "timestamp": 1730067840459,
     "user": {
      "displayName": "Airton Feitosa",
      "userId": "17849818755729515077"
     },
     "user_tz": 180
    },
    "id": "1ec41aa9-6dcf-4d69-a53e-6906b1abc155"
   },
   "outputs": [],
   "source": [
    "# Grafico de Dispersao"
   ]
  },
  {
   "cell_type": "code",
   "execution_count": 14,
   "id": "9a7f33e6-2203-487d-a3fd-c731a6c08d24",
   "metadata": {
    "executionInfo": {
     "elapsed": 11,
     "status": "aborted",
     "timestamp": 1730067840460,
     "user": {
      "displayName": "Airton Feitosa",
      "userId": "17849818755729515077"
     },
     "user_tz": 180
    },
    "id": "9a7f33e6-2203-487d-a3fd-c731a6c08d24"
   },
   "outputs": [
    {
     "data": {
      "text/plain": [
       "<Axes: xlabel='Anos_Educ_Superior', ylabel='Salario'>"
      ]
     },
     "execution_count": 14,
     "metadata": {},
     "output_type": "execute_result"
    },
    {
     "data": {
      "image/png": "[encoded data removed]",
      "text/plain": [
       "<Figure size 640x480 with 1 Axes>"
      ]
     },
     "metadata": {},
     "output_type": "display_data"
    }
   ],
   "source": [
    "sns.scatterplot(x= df.Anos_Educ_Superior,\n",
    "                y= df.Salario)"
   ]
  },
  {
   "cell_type": "code",
   "execution_count": 15,
   "id": "c87f6a47-b758-4d14-937a-cb4cc10af010",
   "metadata": {
    "executionInfo": {
     "elapsed": 11,
     "status": "aborted",
     "timestamp": 1730067840460,
     "user": {
      "displayName": "Airton Feitosa",
      "userId": "17849818755729515077"
     },
     "user_tz": 180
    },
    "id": "c87f6a47-b758-4d14-937a-cb4cc10af010"
   },
   "outputs": [
    {
     "data": {
      "text/html": [
       "<div>\n",
       "<style scoped>\n",
       "    .dataframe tbody tr th:only-of-type {\n",
       "        vertical-align: middle;\n",
       "    }\n",
       "\n",
       "    .dataframe tbody tr th {\n",
       "        vertical-align: top;\n",
       "    }\n",
       "\n",
       "    .dataframe thead th {\n",
       "        text-align: right;\n",
       "    }\n",
       "</style>\n",
       "<table border=\"1\" class=\"dataframe\">\n",
       "  <thead>\n",
       "    <tr style=\"text-align: right;\">\n",
       "      <th></th>\n",
       "      <th>Salario</th>\n",
       "      <th>Anos_Educ_Superior</th>\n",
       "    </tr>\n",
       "  </thead>\n",
       "  <tbody>\n",
       "    <tr>\n",
       "      <th>Salario</th>\n",
       "      <td>1.00</td>\n",
       "      <td>0.78</td>\n",
       "    </tr>\n",
       "    <tr>\n",
       "      <th>Anos_Educ_Superior</th>\n",
       "      <td>0.78</td>\n",
       "      <td>1.00</td>\n",
       "    </tr>\n",
       "  </tbody>\n",
       "</table>\n",
       "</div>"
      ],
      "text/plain": [
       "                    Salario  Anos_Educ_Superior\n",
       "Salario                1.00                0.78\n",
       "Anos_Educ_Superior     0.78                1.00"
      ]
     },
     "execution_count": 15,
     "metadata": {},
     "output_type": "execute_result"
    }
   ],
   "source": [
    "df.corr().round(2)"
   ]
  },
  {
   "cell_type": "markdown",
   "id": "2b091534-48bf-4145-971d-194180d1f7ba",
   "metadata": {},
   "source": [
    "Devido a correlação de pearson entre os dados Anos de Educação Superior e Salario possuir\n",
    "uma correlação de 0.78, é possivel estabelecer uma relação positiva crescente\n",
    "que nos permite dizer que caso a variavel Anos de Educação Superior aumente, o Salario tambem aumenta."
   ]
  },
  {
   "cell_type": "code",
   "execution_count": 16,
   "id": "79e3f135-330e-4a7c-8a65-2e71abd02aba",
   "metadata": {
    "executionInfo": {
     "elapsed": 11,
     "status": "aborted",
     "timestamp": 1730067840460,
     "user": {
      "displayName": "Airton Feitosa",
      "userId": "17849818755729515077"
     },
     "user_tz": 180
    },
    "id": "79e3f135-330e-4a7c-8a65-2e71abd02aba"
   },
   "outputs": [],
   "source": [
    "# Grafico HeatMap - Correlação Linear de Pearson"
   ]
  },
  {
   "cell_type": "code",
   "execution_count": 17,
   "id": "145d09dd-a448-4f6b-9247-caee69d78014",
   "metadata": {
    "executionInfo": {
     "elapsed": 11,
     "status": "aborted",
     "timestamp": 1730067840460,
     "user": {
      "displayName": "Airton Feitosa",
      "userId": "17849818755729515077"
     },
     "user_tz": 180
    },
    "id": "145d09dd-a448-4f6b-9247-caee69d78014"
   },
   "outputs": [
    {
     "data": {
      "text/plain": [
       "<Axes: >"
      ]
     },
     "execution_count": 17,
     "metadata": {},
     "output_type": "execute_result"
    },
    {
     "data": {
      "image/png": "[encoded data removed]",
      "text/plain": [
       "<Figure size 640x480 with 2 Axes>"
      ]
     },
     "metadata": {},
     "output_type": "display_data"
    }
   ],
   "source": [
    "sns.heatmap(data= df.corr(),\n",
    "            vmin= -1,\n",
    "            vmax= 1,\n",
    "            annot= True,\n",
    "            cmap= \"RdBu_r\",\n",
    "            )"
   ]
  },
  {
   "cell_type": "markdown",
   "id": "a2230d36-c54e-42dc-9848-d6a419abee7c",
   "metadata": {
    "id": "a2230d36-c54e-42dc-9848-d6a419abee7c"
   },
   "source": [
    "# Ajuste do modelo de regressao usando a biblioteca do StatsModels"
   ]
  },
  {
   "cell_type": "code",
   "execution_count": 18,
   "id": "9f081a11-5298-487c-ba65-6982e821e1dd",
   "metadata": {
    "executionInfo": {
     "elapsed": 10,
     "status": "aborted",
     "timestamp": 1730067840460,
     "user": {
      "displayName": "Airton Feitosa",
      "userId": "17849818755729515077"
     },
     "user_tz": 180
    },
    "id": "9f081a11-5298-487c-ba65-6982e821e1dd"
   },
   "outputs": [],
   "source": [
    "# Variavel Resposta\n",
    "y = df.Salario"
   ]
  },
  {
   "cell_type": "code",
   "execution_count": 19,
   "id": "461f4d4e-95c3-4f70-b2e4-6016b1402c5c",
   "metadata": {
    "executionInfo": {
     "elapsed": 11,
     "status": "aborted",
     "timestamp": 1730067840461,
     "user": {
      "displayName": "Airton Feitosa",
      "userId": "17849818755729515077"
     },
     "user_tz": 180
    },
    "id": "461f4d4e-95c3-4f70-b2e4-6016b1402c5c"
   },
   "outputs": [],
   "source": [
    "# Variavel explicativa\n",
    "#x = df.Anos_Educ_Superior\n",
    "##x = df[[\"Interceptor\", \"Anos_Educ_Superior\"]]\n",
    "#Intercepetor (Seria o 0,0 no cartesiano)\n",
    "\n",
    "df[\"Interceptor\"] = 1\n",
    "x = df[[\"Interceptor\", \"Anos_Educ_Superior\"]]"
   ]
  },
  {
   "cell_type": "code",
   "execution_count": 20,
   "id": "26826928-4286-4a32-a452-2f179ce90ee9",
   "metadata": {
    "executionInfo": {
     "elapsed": 11,
     "status": "aborted",
     "timestamp": 1730067840461,
     "user": {
      "displayName": "Airton Feitosa",
      "userId": "17849818755729515077"
     },
     "user_tz": 180
    },
    "id": "26826928-4286-4a32-a452-2f179ce90ee9"
   },
   "outputs": [],
   "source": [
    "modelo = sm.OLS(y,x)\n",
    "#apenas calcula a relação mas nao retorna o df\n",
    "resultado = modelo.fit()"
   ]
  },
  {
   "cell_type": "code",
   "execution_count": 21,
   "id": "01afaf9d-6e2e-40c3-ab40-ffbd77d172e7",
   "metadata": {
    "executionInfo": {
     "elapsed": 11,
     "status": "aborted",
     "timestamp": 1730067840462,
     "user": {
      "displayName": "Airton Feitosa",
      "userId": "17849818755729515077"
     },
     "user_tz": 180
    },
    "id": "01afaf9d-6e2e-40c3-ab40-ffbd77d172e7"
   },
   "outputs": [
    {
     "name": "stdout",
     "output_type": "stream",
     "text": [
      "                            OLS Regression Results                            \n",
      "==============================================================================\n",
      "Dep. Variable:                Salario   R-squared:                       0.604\n",
      "Model:                            OLS   Adj. R-squared:                  0.595\n",
      "Method:                 Least Squares   F-statistic:                     67.03\n",
      "Date:                Sun, 27 Oct 2024   Prob (F-statistic):           2.18e-10\n",
      "Time:                        19:51:00   Log-Likelihood:                -391.36\n",
      "No. Observations:                  46   AIC:                             786.7\n",
      "Df Residuals:                      44   BIC:                             790.4\n",
      "Df Model:                           1                                         \n",
      "Covariance Type:            nonrobust                                         \n",
      "======================================================================================\n",
      "                         coef    std err          t      P>|t|      [0.025      0.975]\n",
      "--------------------------------------------------------------------------------------\n",
      "Interceptor         4301.7990    372.608     11.545      0.000    3550.857    5052.741\n",
      "Anos_Educ_Superior   526.7294     64.335      8.187      0.000     397.070     656.388\n",
      "==============================================================================\n",
      "Omnibus:                        1.575   Durbin-Watson:                   1.773\n",
      "Prob(Omnibus):                  0.455   Jarque-Bera (JB):                0.935\n",
      "Skew:                          -0.336   Prob(JB):                        0.627\n",
      "Kurtosis:                       3.193   Cond. No.                         12.2\n",
      "==============================================================================\n",
      "\n",
      "Notes:\n",
      "[1] Standard Errors assume that the covariance matrix of the errors is correctly specified.\n"
     ]
    }
   ],
   "source": [
    "print(resultado.summary())"
   ]
  },
  {
   "cell_type": "markdown",
   "id": "315a1174-0558-4cd8-bd2b-ea09d5fe9067",
   "metadata": {
    "id": "315a1174-0558-4cd8-bd2b-ea09d5fe9067"
   },
   "source": [
    "### Como avaliar\n",
    "1. Avaliar o R-Squared\n",
    "Ele é uma porcentagem em decimal que fala q explica o quanto a \"reta\" explica os casos no grafico\n",
    "(59.5% dos casos é explicado pelo modelo da reta)\n",
    "\n",
    "2. Avaliar o P > |t|\n",
    "Quanto mais proximo de 0, melhor\n",
    "\n",
    "3. Avaliar o coef\n",
    "do interceptor representa o 0,0 do cartesiano, ou seja, nesse caso, 4301 é o valor de alguem q entra na empresa com 0 anos de experiencia\n",
    "e a CADA ano de educ superior, adiciona 526,72\n"
   ]
  }
 ],
 "metadata": {
  "colab": {
   "provenance": []
  },
  "kernelspec": {
   "display_name": "Python 3 (ipykernel)",
   "language": "python",
   "name": "python3"
  },
  "language_info": {
   "codemirror_mode": {
    "name": "ipython",
    "version": 3
   },
   "file_extension": ".py",
   "mimetype": "text/x-python",
   "name": "python",
   "nbconvert_exporter": "python",
   "pygments_lexer": "ipython3",
   "version": "3.12.4"
  }
 },
 "nbformat": 4,
 "nbformat_minor": 5
}
