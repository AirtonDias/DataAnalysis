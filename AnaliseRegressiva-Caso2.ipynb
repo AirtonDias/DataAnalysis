{
 "cells": [
  {
   "cell_type": "code",
   "execution_count": 19,
   "id": "eb9f5ed1-9ec5-45e1-8c1a-b0e932d35379",
   "metadata": {},
   "outputs": [],
   "source": [
    "#Pacote de manipulação de dados\n",
    "import pandas as pd\n",
    "import numpy as np\n",
    "\n",
    "#PAcotes graficos\n",
    "import matplotlib.pyplot as plt\n",
    "import seaborn as sns\n",
    "\n",
    "#Pacotes de Modelagem Estatistica\n",
    "import statsmodels.api as sm"
   ]
  },
  {
   "cell_type": "code",
   "execution_count": 20,
   "id": "fdea3581-33b0-415a-92e2-5655ccc82e1f",
   "metadata": {},
   "outputs": [
    {
     "data": {
      "text/plain": [
       "(46, 3)"
      ]
     },
     "execution_count": 20,
     "metadata": {},
     "output_type": "execute_result"
    }
   ],
   "source": [
    "df = pd.read_csv(\"base_funcionarios_v2.csv\", sep=\";\", index_col= \"id\")\n",
    "df.shape"
   ]
  },
  {
   "cell_type": "code",
   "execution_count": 21,
   "id": "c605fb60-d812-4009-9944-6849933c2359",
   "metadata": {},
   "outputs": [
    {
     "data": {
      "text/plain": [
       "Salario               float64\n",
       "Anos_Educ_Superior      int64\n",
       "Tempo_Empresa           int64\n",
       "dtype: object"
      ]
     },
     "execution_count": 21,
     "metadata": {},
     "output_type": "execute_result"
    }
   ],
   "source": [
    "df.dtypes"
   ]
  },
  {
   "cell_type": "code",
   "execution_count": 22,
   "id": "8d496bd2-483c-4fa9-88a8-5ea0b221a5bd",
   "metadata": {},
   "outputs": [
    {
     "data": {
      "text/html": [
       "<div>\n",
       "<style scoped>\n",
       "    .dataframe tbody tr th:only-of-type {\n",
       "        vertical-align: middle;\n",
       "    }\n",
       "\n",
       "    .dataframe tbody tr th {\n",
       "        vertical-align: top;\n",
       "    }\n",
       "\n",
       "    .dataframe thead th {\n",
       "        text-align: right;\n",
       "    }\n",
       "</style>\n",
       "<table border=\"1\" class=\"dataframe\">\n",
       "  <thead>\n",
       "    <tr style=\"text-align: right;\">\n",
       "      <th></th>\n",
       "      <th>Salario</th>\n",
       "      <th>Anos_Educ_Superior</th>\n",
       "      <th>Tempo_Empresa</th>\n",
       "    </tr>\n",
       "  </thead>\n",
       "  <tbody>\n",
       "    <tr>\n",
       "      <th>count</th>\n",
       "      <td>46.00</td>\n",
       "      <td>46.00</td>\n",
       "      <td>46.00</td>\n",
       "    </tr>\n",
       "    <tr>\n",
       "      <th>mean</th>\n",
       "      <td>6969.80</td>\n",
       "      <td>5.07</td>\n",
       "      <td>10.33</td>\n",
       "    </tr>\n",
       "    <tr>\n",
       "      <th>std</th>\n",
       "      <td>1924.87</td>\n",
       "      <td>2.84</td>\n",
       "      <td>7.60</td>\n",
       "    </tr>\n",
       "    <tr>\n",
       "      <th>min</th>\n",
       "      <td>4139.50</td>\n",
       "      <td>0.00</td>\n",
       "      <td>0.00</td>\n",
       "    </tr>\n",
       "    <tr>\n",
       "      <th>25%</th>\n",
       "      <td>5818.35</td>\n",
       "      <td>4.00</td>\n",
       "      <td>5.25</td>\n",
       "    </tr>\n",
       "    <tr>\n",
       "      <th>50%</th>\n",
       "      <td>6394.75</td>\n",
       "      <td>5.00</td>\n",
       "      <td>8.50</td>\n",
       "    </tr>\n",
       "    <tr>\n",
       "      <th>75%</th>\n",
       "      <td>7972.40</td>\n",
       "      <td>6.00</td>\n",
       "      <td>17.25</td>\n",
       "    </tr>\n",
       "    <tr>\n",
       "      <th>max</th>\n",
       "      <td>12118.10</td>\n",
       "      <td>12.00</td>\n",
       "      <td>27.00</td>\n",
       "    </tr>\n",
       "  </tbody>\n",
       "</table>\n",
       "</div>"
      ],
      "text/plain": [
       "        Salario  Anos_Educ_Superior  Tempo_Empresa\n",
       "count     46.00               46.00          46.00\n",
       "mean    6969.80                5.07          10.33\n",
       "std     1924.87                2.84           7.60\n",
       "min     4139.50                0.00           0.00\n",
       "25%     5818.35                4.00           5.25\n",
       "50%     6394.75                5.00           8.50\n",
       "75%     7972.40                6.00          17.25\n",
       "max    12118.10               12.00          27.00"
      ]
     },
     "execution_count": 22,
     "metadata": {},
     "output_type": "execute_result"
    }
   ],
   "source": [
    "df.describe().round(2)"
   ]
  },
  {
   "cell_type": "code",
   "execution_count": 23,
   "id": "23f4da4e-9e90-458e-b94f-5e7f54f95c2b",
   "metadata": {},
   "outputs": [
    {
     "data": {
      "text/plain": [
       "0"
      ]
     },
     "execution_count": 23,
     "metadata": {},
     "output_type": "execute_result"
    }
   ],
   "source": [
    "df.duplicated().sum()"
   ]
  },
  {
   "cell_type": "code",
   "execution_count": 24,
   "id": "894f9e5e-c0d8-42a9-9e20-f254139066d7",
   "metadata": {},
   "outputs": [
    {
     "data": {
      "text/plain": [
       "<Axes: xlabel='Tempo_Empresa', ylabel='Salario'>"
      ]
     },
     "execution_count": 24,
     "metadata": {},
     "output_type": "execute_result"
    },
    {
     "data": {
      "image/png": "[encoded data removed]",
      "text/plain": [
       "<Figure size 640x480 with 1 Axes>"
      ]
     },
     "metadata": {},
     "output_type": "display_data"
    }
   ],
   "source": [
    "sns.scatterplot(x= df.Tempo_Empresa, \n",
    "                y= df.Salario)\n",
    "\n",
    "sns.scatterplot(x= df.Anos_Educ_Superior, \n",
    "                y= df.Salario)"
   ]
  },
  {
   "cell_type": "code",
   "execution_count": 25,
   "id": "8b14b020-8fc8-4244-9721-2c3739e80cd7",
   "metadata": {},
   "outputs": [
    {
     "name": "stdout",
     "output_type": "stream",
     "text": [
      "                    Salario  Anos_Educ_Superior  Tempo_Empresa\n",
      "Salario                1.00                0.78           0.77\n",
      "Anos_Educ_Superior     0.78                1.00           0.61\n",
      "Tempo_Empresa          0.77                0.61           1.00\n"
     ]
    }
   ],
   "source": [
    "print(df.corr().round(2))"
   ]
  },
  {
   "cell_type": "code",
   "execution_count": 26,
   "id": "6d245619-ecef-45fc-b950-9d65fa07b657",
   "metadata": {},
   "outputs": [
    {
     "data": {
      "text/plain": [
       "<Axes: >"
      ]
     },
     "execution_count": 26,
     "metadata": {},
     "output_type": "execute_result"
    },
    {
     "data": {
      "image/png": "[encoded data removed]",
      "text/plain": [
       "<Figure size 640x480 with 2 Axes>"
      ]
     },
     "metadata": {},
     "output_type": "display_data"
    }
   ],
   "source": [
    "sns.heatmap(data= df.corr(), \n",
    "            vmin= -1, \n",
    "            vmax= 1,\n",
    "            annot= True, \n",
    "            cmap= \"RdBu_r\",\n",
    "            )"
   ]
  },
  {
   "cell_type": "code",
   "execution_count": 27,
   "id": "0a8ef94e-e970-47ef-8f31-92485244ee30",
   "metadata": {},
   "outputs": [
    {
     "data": {
      "text/html": [
       "<div>\n",
       "<style scoped>\n",
       "    .dataframe tbody tr th:only-of-type {\n",
       "        vertical-align: middle;\n",
       "    }\n",
       "\n",
       "    .dataframe tbody tr th {\n",
       "        vertical-align: top;\n",
       "    }\n",
       "\n",
       "    .dataframe thead th {\n",
       "        text-align: right;\n",
       "    }\n",
       "</style>\n",
       "<table border=\"1\" class=\"dataframe\">\n",
       "  <thead>\n",
       "    <tr style=\"text-align: right;\">\n",
       "      <th></th>\n",
       "      <th>Salario</th>\n",
       "      <th>Anos_Educ_Superior</th>\n",
       "      <th>Tempo_Empresa</th>\n",
       "    </tr>\n",
       "  </thead>\n",
       "  <tbody>\n",
       "    <tr>\n",
       "      <th>Salario</th>\n",
       "      <td>1.00</td>\n",
       "      <td>0.78</td>\n",
       "      <td>0.77</td>\n",
       "    </tr>\n",
       "    <tr>\n",
       "      <th>Anos_Educ_Superior</th>\n",
       "      <td>0.78</td>\n",
       "      <td>1.00</td>\n",
       "      <td>0.61</td>\n",
       "    </tr>\n",
       "    <tr>\n",
       "      <th>Tempo_Empresa</th>\n",
       "      <td>0.77</td>\n",
       "      <td>0.61</td>\n",
       "      <td>1.00</td>\n",
       "    </tr>\n",
       "  </tbody>\n",
       "</table>\n",
       "</div>"
      ],
      "text/plain": [
       "                    Salario  Anos_Educ_Superior  Tempo_Empresa\n",
       "Salario                1.00                0.78           0.77\n",
       "Anos_Educ_Superior     0.78                1.00           0.61\n",
       "Tempo_Empresa          0.77                0.61           1.00"
      ]
     },
     "execution_count": 27,
     "metadata": {},
     "output_type": "execute_result"
    }
   ],
   "source": [
    "df.corr().round(2)"
   ]
  },
  {
   "cell_type": "code",
   "execution_count": 28,
   "id": "46aca3f3-d58a-41a4-a10b-f8c2b590e279",
   "metadata": {},
   "outputs": [],
   "source": [
    "y = df.Salario\n",
    "df[\"Interceptor\"] = 1\n",
    "x = df[[\"Interceptor\", \"Anos_Educ_Superior\", \"Tempo_Empresa\"]]"
   ]
  },
  {
   "cell_type": "code",
   "execution_count": 29,
   "id": "e1b6a557-ee78-4d2a-92ed-4b1579e51bb9",
   "metadata": {},
   "outputs": [
    {
     "name": "stdout",
     "output_type": "stream",
     "text": [
      "                            OLS Regression Results                            \n",
      "==============================================================================\n",
      "Dep. Variable:                Salario   R-squared:                       0.740\n",
      "Model:                            OLS   Adj. R-squared:                  0.728\n",
      "Method:                 Least Squares   F-statistic:                     61.17\n",
      "Date:                Fri, 08 Nov 2024   Prob (F-statistic):           2.66e-13\n",
      "Time:                        21:44:01   Log-Likelihood:                -381.67\n",
      "No. Observations:                  46   AIC:                             769.3\n",
      "Df Residuals:                      43   BIC:                             774.8\n",
      "Df Model:                           2                                         \n",
      "Covariance Type:            nonrobust                                         \n",
      "======================================================================================\n",
      "                         coef    std err          t      P>|t|      [0.025      0.975]\n",
      "--------------------------------------------------------------------------------------\n",
      "Interceptor         4056.0591    309.703     13.097      0.000    3431.483    4680.635\n",
      "Anos_Educ_Superior   335.3868     66.372      5.053      0.000     201.535     469.238\n",
      "Tempo_Empresa        117.6566     24.793      4.746      0.000      67.657     167.656\n",
      "==============================================================================\n",
      "Omnibus:                        7.622   Durbin-Watson:                   1.991\n",
      "Prob(Omnibus):                  0.022   Jarque-Bera (JB):                7.260\n",
      "Skew:                          -0.655   Prob(JB):                       0.0265\n",
      "Kurtosis:                       4.439   Cond. No.                         29.1\n",
      "==============================================================================\n",
      "\n",
      "Notes:\n",
      "[1] Standard Errors assume that the covariance matrix of the errors is correctly specified.\n"
     ]
    }
   ],
   "source": [
    "modelo = sm.OLS(y,x)\n",
    "#apenas calcula a relação mas nao retorna o df\n",
    "resultado = modelo.fit()\n",
    "print(resultado.summary())"
   ]
  },
  {
   "cell_type": "code",
   "execution_count": 30,
   "id": "595addcf-e253-4c9b-a2cc-55cb11983cb4",
   "metadata": {},
   "outputs": [],
   "source": [
    "B0 = 4056.05\n",
    "B1 = 335.38\n",
    "B2 = 117.65\n",
    "\n",
    "\n",
    "#Fsalario = B0 + (B1*anos de curso superio + B2*anos de empresa)\n",
    "df[\"Salario Esperado\"] = B0 + df.Anos_Educ_Superior * B1 + df.Tempo_Empresa * B2"
   ]
  },
  {
   "cell_type": "code",
   "execution_count": 31,
   "id": "fcaa8443-a775-4a3f-a63e-8d1c7dbb3d93",
   "metadata": {},
   "outputs": [
    {
     "data": {
      "text/html": [
       "<div>\n",
       "<style scoped>\n",
       "    .dataframe tbody tr th:only-of-type {\n",
       "        vertical-align: middle;\n",
       "    }\n",
       "\n",
       "    .dataframe tbody tr th {\n",
       "        vertical-align: top;\n",
       "    }\n",
       "\n",
       "    .dataframe thead th {\n",
       "        text-align: right;\n",
       "    }\n",
       "</style>\n",
       "<table border=\"1\" class=\"dataframe\">\n",
       "  <thead>\n",
       "    <tr style=\"text-align: right;\">\n",
       "      <th></th>\n",
       "      <th>Salario</th>\n",
       "      <th>Anos_Educ_Superior</th>\n",
       "      <th>Tempo_Empresa</th>\n",
       "      <th>Interceptor</th>\n",
       "      <th>Salario Esperado</th>\n",
       "    </tr>\n",
       "    <tr>\n",
       "      <th>id</th>\n",
       "      <th></th>\n",
       "      <th></th>\n",
       "      <th></th>\n",
       "      <th></th>\n",
       "      <th></th>\n",
       "    </tr>\n",
       "  </thead>\n",
       "  <tbody>\n",
       "    <tr>\n",
       "      <th>1</th>\n",
       "      <td>5517.4</td>\n",
       "      <td>3</td>\n",
       "      <td>3</td>\n",
       "      <td>1</td>\n",
       "      <td>5415.14</td>\n",
       "    </tr>\n",
       "    <tr>\n",
       "      <th>2</th>\n",
       "      <td>6399.9</td>\n",
       "      <td>4</td>\n",
       "      <td>6</td>\n",
       "      <td>1</td>\n",
       "      <td>6103.47</td>\n",
       "    </tr>\n",
       "    <tr>\n",
       "      <th>3</th>\n",
       "      <td>6206.7</td>\n",
       "      <td>6</td>\n",
       "      <td>3</td>\n",
       "      <td>1</td>\n",
       "      <td>6421.28</td>\n",
       "    </tr>\n",
       "    <tr>\n",
       "      <th>4</th>\n",
       "      <td>6060.6</td>\n",
       "      <td>4</td>\n",
       "      <td>5</td>\n",
       "      <td>1</td>\n",
       "      <td>5985.82</td>\n",
       "    </tr>\n",
       "    <tr>\n",
       "      <th>5</th>\n",
       "      <td>6122.7</td>\n",
       "      <td>2</td>\n",
       "      <td>9</td>\n",
       "      <td>1</td>\n",
       "      <td>5785.66</td>\n",
       "    </tr>\n",
       "  </tbody>\n",
       "</table>\n",
       "</div>"
      ],
      "text/plain": [
       "    Salario  Anos_Educ_Superior  Tempo_Empresa  Interceptor  Salario Esperado\n",
       "id                                                                           \n",
       "1    5517.4                   3              3            1           5415.14\n",
       "2    6399.9                   4              6            1           6103.47\n",
       "3    6206.7                   6              3            1           6421.28\n",
       "4    6060.6                   4              5            1           5985.82\n",
       "5    6122.7                   2              9            1           5785.66"
      ]
     },
     "execution_count": 31,
     "metadata": {},
     "output_type": "execute_result"
    }
   ],
   "source": [
    "df.head()"
   ]
  },
  {
   "cell_type": "code",
   "execution_count": 33,
   "id": "cab8b1ee-e789-4652-832e-4f5c405bca04",
   "metadata": {},
   "outputs": [],
   "source": [
    "df.to_excel(\"Relatorio_Final.xlsx\")"
   ]
  },
  {
   "cell_type": "code",
   "execution_count": null,
   "id": "96829105-87e7-4a46-8971-1514a8a95c93",
   "metadata": {},
   "outputs": [],
   "source": []
  }
 ],
 "metadata": {
  "kernelspec": {
   "display_name": "Python 3 (ipykernel)",
   "language": "python",
   "name": "python3"
  },
  "language_info": {
   "codemirror_mode": {
    "name": "ipython",
    "version": 3
   },
   "file_extension": ".py",
   "mimetype": "text/x-python",
   "name": "python",
   "nbconvert_exporter": "python",
   "pygments_lexer": "ipython3",
   "version": "3.12.4"
  }
 },
 "nbformat": 4,
 "nbformat_minor": 5
}
