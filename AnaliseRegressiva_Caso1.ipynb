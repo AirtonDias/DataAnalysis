{
  "cells": [
    {
      "cell_type": "markdown",
      "metadata": {
        "id": "view-in-github",
        "colab_type": "text"
      },
      "source": [
        "<a href=\"https://colab.research.google.com/github/AirtonDias/DataAnalysis/blob/main/AnaliseRegressiva_Caso1.ipynb\" target=\"_parent\"><img src=\"https://colab.research.google.com/assets/colab-badge.svg\" alt=\"Open In Colab\"/></a>"
      ]
    },
    {
      "cell_type": "code",
      "execution_count": 5,
      "id": "e1c64398-1089-4e41-87bd-0491e2934eee",
      "metadata": {
        "id": "e1c64398-1089-4e41-87bd-0491e2934eee"
      },
      "outputs": [],
      "source": [
        "#Pacote de manipulação de dados\n",
        "import pandas as pd\n",
        "import numpy as np\n",
        "\n",
        "#PAcotes graficos\n",
        "import matplotlib.pyplot as plt\n",
        "import seaborn as sns\n",
        "\n",
        "#Pacotes de Modelagem Estatistica\n",
        "import statsmodels.api as sm"
      ]
    },
    {
      "cell_type": "markdown",
      "id": "e64021f8-9be8-427d-9ceb-852d9b28260d",
      "metadata": {
        "id": "e64021f8-9be8-427d-9ceb-852d9b28260d"
      },
      "source": [
        "# Regressao Linear Simples\n",
        "Utiliza 1 variavel explicativa (É a variavel q vai no eixo X)"
      ]
    },
    {
      "cell_type": "markdown",
      "id": "43d76c41-12c5-46e4-ac67-5779c7d0c278",
      "metadata": {
        "id": "43d76c41-12c5-46e4-ac67-5779c7d0c278"
      },
      "source": [
        "### Objetivo: resolver um problema\n",
        "\n",
        "1. Procurar determinar se existe Corelação entre informações.\n",
        "2. Imaginar um cartesiano\n",
        "3. Colocar no eixo Y a variavel qual quero ESTUDAR\n",
        "4. No eixo X vao ser os objetos que serao comparados"
      ]
    },
    {
      "cell_type": "markdown",
      "id": "b0b04b6d-13b2-49be-965d-9e98b8e01dc7",
      "metadata": {
        "id": "b0b04b6d-13b2-49be-965d-9e98b8e01dc7"
      },
      "source": [
        "A pergunta aqui é: O salario muda de acordo com os anos de educação superior?\n",
        "Se sim, é possivel construir um modelo que estime o salario de acordo com esses anos/variação?"
      ]
    },
    {
      "cell_type": "code",
      "execution_count": 6,
      "id": "dcd45f83-6874-4707-bbf3-0890a61f1121",
      "metadata": {
        "colab": {
          "base_uri": "https://localhost:8080/",
          "height": 329
        },
        "id": "dcd45f83-6874-4707-bbf3-0890a61f1121",
        "outputId": "eaf08981-ae6f-4cd5-b8f3-9dab54cf26e4"
      },
      "outputs": [
        {
          "output_type": "error",
          "ename": "FileNotFoundError",
          "evalue": "[Errno 2] No such file or directory: 'base_funcionarios_v1.csv'",
          "traceback": [
            "\u001b[0;31m---------------------------------------------------------------------------\u001b[0m",
            "\u001b[0;31mFileNotFoundError\u001b[0m                         Traceback (most recent call last)",
            "\u001b[0;32m<ipython-input-6-ef1d9d1cc03b>\u001b[0m in \u001b[0;36m<cell line: 2>\u001b[0;34m()\u001b[0m\n\u001b[1;32m      1\u001b[0m \u001b[0;31m#1.Importar os dados\u001b[0m\u001b[0;34m\u001b[0m\u001b[0;34m\u001b[0m\u001b[0m\n\u001b[0;32m----> 2\u001b[0;31m \u001b[0mdf\u001b[0m \u001b[0;34m=\u001b[0m \u001b[0mpd\u001b[0m\u001b[0;34m.\u001b[0m\u001b[0mread_csv\u001b[0m\u001b[0;34m(\u001b[0m\u001b[0;34m\"base_funcionarios_v1.csv\"\u001b[0m\u001b[0;34m,\u001b[0m \u001b[0msep\u001b[0m\u001b[0;34m=\u001b[0m\u001b[0;34m\";\"\u001b[0m\u001b[0;34m,\u001b[0m \u001b[0mindex_col\u001b[0m\u001b[0;34m=\u001b[0m \u001b[0;34m\"id\"\u001b[0m\u001b[0;34m)\u001b[0m\u001b[0;34m\u001b[0m\u001b[0;34m\u001b[0m\u001b[0m\n\u001b[0m\u001b[1;32m      3\u001b[0m \u001b[0mdf\u001b[0m\u001b[0;34m.\u001b[0m\u001b[0mshape\u001b[0m\u001b[0;34m\u001b[0m\u001b[0;34m\u001b[0m\u001b[0m\n",
            "\u001b[0;32m/usr/local/lib/python3.10/dist-packages/pandas/io/parsers/readers.py\u001b[0m in \u001b[0;36mread_csv\u001b[0;34m(filepath_or_buffer, sep, delimiter, header, names, index_col, usecols, dtype, engine, converters, true_values, false_values, skipinitialspace, skiprows, skipfooter, nrows, na_values, keep_default_na, na_filter, verbose, skip_blank_lines, parse_dates, infer_datetime_format, keep_date_col, date_parser, date_format, dayfirst, cache_dates, iterator, chunksize, compression, thousands, decimal, lineterminator, quotechar, quoting, doublequote, escapechar, comment, encoding, encoding_errors, dialect, on_bad_lines, delim_whitespace, low_memory, memory_map, float_precision, storage_options, dtype_backend)\u001b[0m\n\u001b[1;32m   1024\u001b[0m     \u001b[0mkwds\u001b[0m\u001b[0;34m.\u001b[0m\u001b[0mupdate\u001b[0m\u001b[0;34m(\u001b[0m\u001b[0mkwds_defaults\u001b[0m\u001b[0;34m)\u001b[0m\u001b[0;34m\u001b[0m\u001b[0;34m\u001b[0m\u001b[0m\n\u001b[1;32m   1025\u001b[0m \u001b[0;34m\u001b[0m\u001b[0m\n\u001b[0;32m-> 1026\u001b[0;31m     \u001b[0;32mreturn\u001b[0m \u001b[0m_read\u001b[0m\u001b[0;34m(\u001b[0m\u001b[0mfilepath_or_buffer\u001b[0m\u001b[0;34m,\u001b[0m \u001b[0mkwds\u001b[0m\u001b[0;34m)\u001b[0m\u001b[0;34m\u001b[0m\u001b[0;34m\u001b[0m\u001b[0m\n\u001b[0m\u001b[1;32m   1027\u001b[0m \u001b[0;34m\u001b[0m\u001b[0m\n\u001b[1;32m   1028\u001b[0m \u001b[0;34m\u001b[0m\u001b[0m\n",
            "\u001b[0;32m/usr/local/lib/python3.10/dist-packages/pandas/io/parsers/readers.py\u001b[0m in \u001b[0;36m_read\u001b[0;34m(filepath_or_buffer, kwds)\u001b[0m\n\u001b[1;32m    618\u001b[0m \u001b[0;34m\u001b[0m\u001b[0m\n\u001b[1;32m    619\u001b[0m     \u001b[0;31m# Create the parser.\u001b[0m\u001b[0;34m\u001b[0m\u001b[0;34m\u001b[0m\u001b[0m\n\u001b[0;32m--> 620\u001b[0;31m     \u001b[0mparser\u001b[0m \u001b[0;34m=\u001b[0m \u001b[0mTextFileReader\u001b[0m\u001b[0;34m(\u001b[0m\u001b[0mfilepath_or_buffer\u001b[0m\u001b[0;34m,\u001b[0m \u001b[0;34m**\u001b[0m\u001b[0mkwds\u001b[0m\u001b[0;34m)\u001b[0m\u001b[0;34m\u001b[0m\u001b[0;34m\u001b[0m\u001b[0m\n\u001b[0m\u001b[1;32m    621\u001b[0m \u001b[0;34m\u001b[0m\u001b[0m\n\u001b[1;32m    622\u001b[0m     \u001b[0;32mif\u001b[0m \u001b[0mchunksize\u001b[0m \u001b[0;32mor\u001b[0m \u001b[0miterator\u001b[0m\u001b[0;34m:\u001b[0m\u001b[0;34m\u001b[0m\u001b[0;34m\u001b[0m\u001b[0m\n",
            "\u001b[0;32m/usr/local/lib/python3.10/dist-packages/pandas/io/parsers/readers.py\u001b[0m in \u001b[0;36m__init__\u001b[0;34m(self, f, engine, **kwds)\u001b[0m\n\u001b[1;32m   1618\u001b[0m \u001b[0;34m\u001b[0m\u001b[0m\n\u001b[1;32m   1619\u001b[0m         \u001b[0mself\u001b[0m\u001b[0;34m.\u001b[0m\u001b[0mhandles\u001b[0m\u001b[0;34m:\u001b[0m \u001b[0mIOHandles\u001b[0m \u001b[0;34m|\u001b[0m \u001b[0;32mNone\u001b[0m \u001b[0;34m=\u001b[0m \u001b[0;32mNone\u001b[0m\u001b[0;34m\u001b[0m\u001b[0;34m\u001b[0m\u001b[0m\n\u001b[0;32m-> 1620\u001b[0;31m         \u001b[0mself\u001b[0m\u001b[0;34m.\u001b[0m\u001b[0m_engine\u001b[0m \u001b[0;34m=\u001b[0m \u001b[0mself\u001b[0m\u001b[0;34m.\u001b[0m\u001b[0m_make_engine\u001b[0m\u001b[0;34m(\u001b[0m\u001b[0mf\u001b[0m\u001b[0;34m,\u001b[0m \u001b[0mself\u001b[0m\u001b[0;34m.\u001b[0m\u001b[0mengine\u001b[0m\u001b[0;34m)\u001b[0m\u001b[0;34m\u001b[0m\u001b[0;34m\u001b[0m\u001b[0m\n\u001b[0m\u001b[1;32m   1621\u001b[0m \u001b[0;34m\u001b[0m\u001b[0m\n\u001b[1;32m   1622\u001b[0m     \u001b[0;32mdef\u001b[0m \u001b[0mclose\u001b[0m\u001b[0;34m(\u001b[0m\u001b[0mself\u001b[0m\u001b[0;34m)\u001b[0m \u001b[0;34m->\u001b[0m \u001b[0;32mNone\u001b[0m\u001b[0;34m:\u001b[0m\u001b[0;34m\u001b[0m\u001b[0;34m\u001b[0m\u001b[0m\n",
            "\u001b[0;32m/usr/local/lib/python3.10/dist-packages/pandas/io/parsers/readers.py\u001b[0m in \u001b[0;36m_make_engine\u001b[0;34m(self, f, engine)\u001b[0m\n\u001b[1;32m   1878\u001b[0m                 \u001b[0;32mif\u001b[0m \u001b[0;34m\"b\"\u001b[0m \u001b[0;32mnot\u001b[0m \u001b[0;32min\u001b[0m \u001b[0mmode\u001b[0m\u001b[0;34m:\u001b[0m\u001b[0;34m\u001b[0m\u001b[0;34m\u001b[0m\u001b[0m\n\u001b[1;32m   1879\u001b[0m                     \u001b[0mmode\u001b[0m \u001b[0;34m+=\u001b[0m \u001b[0;34m\"b\"\u001b[0m\u001b[0;34m\u001b[0m\u001b[0;34m\u001b[0m\u001b[0m\n\u001b[0;32m-> 1880\u001b[0;31m             self.handles = get_handle(\n\u001b[0m\u001b[1;32m   1881\u001b[0m                 \u001b[0mf\u001b[0m\u001b[0;34m,\u001b[0m\u001b[0;34m\u001b[0m\u001b[0;34m\u001b[0m\u001b[0m\n\u001b[1;32m   1882\u001b[0m                 \u001b[0mmode\u001b[0m\u001b[0;34m,\u001b[0m\u001b[0;34m\u001b[0m\u001b[0;34m\u001b[0m\u001b[0m\n",
            "\u001b[0;32m/usr/local/lib/python3.10/dist-packages/pandas/io/common.py\u001b[0m in \u001b[0;36mget_handle\u001b[0;34m(path_or_buf, mode, encoding, compression, memory_map, is_text, errors, storage_options)\u001b[0m\n\u001b[1;32m    871\u001b[0m         \u001b[0;32mif\u001b[0m \u001b[0mioargs\u001b[0m\u001b[0;34m.\u001b[0m\u001b[0mencoding\u001b[0m \u001b[0;32mand\u001b[0m \u001b[0;34m\"b\"\u001b[0m \u001b[0;32mnot\u001b[0m \u001b[0;32min\u001b[0m \u001b[0mioargs\u001b[0m\u001b[0;34m.\u001b[0m\u001b[0mmode\u001b[0m\u001b[0;34m:\u001b[0m\u001b[0;34m\u001b[0m\u001b[0;34m\u001b[0m\u001b[0m\n\u001b[1;32m    872\u001b[0m             \u001b[0;31m# Encoding\u001b[0m\u001b[0;34m\u001b[0m\u001b[0;34m\u001b[0m\u001b[0m\n\u001b[0;32m--> 873\u001b[0;31m             handle = open(\n\u001b[0m\u001b[1;32m    874\u001b[0m                 \u001b[0mhandle\u001b[0m\u001b[0;34m,\u001b[0m\u001b[0;34m\u001b[0m\u001b[0;34m\u001b[0m\u001b[0m\n\u001b[1;32m    875\u001b[0m                 \u001b[0mioargs\u001b[0m\u001b[0;34m.\u001b[0m\u001b[0mmode\u001b[0m\u001b[0;34m,\u001b[0m\u001b[0;34m\u001b[0m\u001b[0;34m\u001b[0m\u001b[0m\n",
            "\u001b[0;31mFileNotFoundError\u001b[0m: [Errno 2] No such file or directory: 'base_funcionarios_v1.csv'"
          ]
        }
      ],
      "source": [
        "#1.Importar os dados\n",
        "df = pd.read_csv(\"base_funcionarios_v1.csv\", sep=\";\", index_col= \"id\")\n",
        "df.shape"
      ]
    },
    {
      "cell_type": "code",
      "execution_count": null,
      "id": "d2d7f051-83a0-43fb-a465-684619351065",
      "metadata": {
        "id": "d2d7f051-83a0-43fb-a465-684619351065"
      },
      "outputs": [],
      "source": [
        "df.head()"
      ]
    },
    {
      "cell_type": "code",
      "execution_count": null,
      "id": "82c59dd2-5b9d-4c19-ba47-357bfbaeeb19",
      "metadata": {
        "id": "82c59dd2-5b9d-4c19-ba47-357bfbaeeb19"
      },
      "outputs": [],
      "source": [
        "df.describe().round(1)"
      ]
    },
    {
      "cell_type": "code",
      "execution_count": null,
      "id": "3904c6ce-dbc4-491d-9cf6-f99fea817712",
      "metadata": {
        "id": "3904c6ce-dbc4-491d-9cf6-f99fea817712"
      },
      "outputs": [],
      "source": [
        "df.info()"
      ]
    },
    {
      "cell_type": "code",
      "execution_count": null,
      "id": "c678dbc0-2a59-4520-808e-9d2c5e0aeafd",
      "metadata": {
        "id": "c678dbc0-2a59-4520-808e-9d2c5e0aeafd"
      },
      "outputs": [],
      "source": [
        "df.dtypes"
      ]
    },
    {
      "cell_type": "code",
      "execution_count": null,
      "id": "d19d8a2b-ae97-4f67-a965-ef8d550d5b65",
      "metadata": {
        "id": "d19d8a2b-ae97-4f67-a965-ef8d550d5b65"
      },
      "outputs": [],
      "source": [
        "df.isnull().sum()"
      ]
    },
    {
      "cell_type": "code",
      "execution_count": null,
      "id": "6851d6be-c619-4eeb-a6a2-0441fef749d5",
      "metadata": {
        "id": "6851d6be-c619-4eeb-a6a2-0441fef749d5"
      },
      "outputs": [],
      "source": [
        "df.duplicated().sum()"
      ]
    },
    {
      "cell_type": "markdown",
      "id": "648580a5-5deb-4d2f-8715-f67dbb1145b2",
      "metadata": {
        "id": "648580a5-5deb-4d2f-8715-f67dbb1145b2"
      },
      "source": [
        "# Análise Exploratoria"
      ]
    },
    {
      "cell_type": "code",
      "execution_count": null,
      "id": "1ec41aa9-6dcf-4d69-a53e-6906b1abc155",
      "metadata": {
        "id": "1ec41aa9-6dcf-4d69-a53e-6906b1abc155"
      },
      "outputs": [],
      "source": [
        "# Grafico de Dispersao"
      ]
    },
    {
      "cell_type": "code",
      "execution_count": null,
      "id": "9a7f33e6-2203-487d-a3fd-c731a6c08d24",
      "metadata": {
        "id": "9a7f33e6-2203-487d-a3fd-c731a6c08d24"
      },
      "outputs": [],
      "source": [
        "sns.scatterplot(x= df.Anos_Educ_Superior,\n",
        "                y= df.Salario)"
      ]
    },
    {
      "cell_type": "code",
      "execution_count": null,
      "id": "c87f6a47-b758-4d14-937a-cb4cc10af010",
      "metadata": {
        "id": "c87f6a47-b758-4d14-937a-cb4cc10af010"
      },
      "outputs": [],
      "source": [
        "df.corr().round(2)"
      ]
    },
    {
      "cell_type": "code",
      "execution_count": null,
      "id": "79e3f135-330e-4a7c-8a65-2e71abd02aba",
      "metadata": {
        "id": "79e3f135-330e-4a7c-8a65-2e71abd02aba"
      },
      "outputs": [],
      "source": [
        "# Grafico HeatMap - Correlação Linear de Pearson"
      ]
    },
    {
      "cell_type": "code",
      "execution_count": null,
      "id": "145d09dd-a448-4f6b-9247-caee69d78014",
      "metadata": {
        "id": "145d09dd-a448-4f6b-9247-caee69d78014"
      },
      "outputs": [],
      "source": [
        "sns.heatmap(data= df.corr(),\n",
        "            vmin= -1,\n",
        "            vmax= 1,\n",
        "            annot= True,\n",
        "            cmap= \"RdBu_r\",\n",
        "            )"
      ]
    },
    {
      "cell_type": "markdown",
      "id": "a2230d36-c54e-42dc-9848-d6a419abee7c",
      "metadata": {
        "id": "a2230d36-c54e-42dc-9848-d6a419abee7c"
      },
      "source": [
        "# Ajuste do modelo de regressao usando a biblioteca do StatsModels"
      ]
    },
    {
      "cell_type": "code",
      "execution_count": null,
      "id": "9f081a11-5298-487c-ba65-6982e821e1dd",
      "metadata": {
        "id": "9f081a11-5298-487c-ba65-6982e821e1dd"
      },
      "outputs": [],
      "source": [
        "# Variavel Resposta\n",
        "y = df.Salario"
      ]
    },
    {
      "cell_type": "code",
      "execution_count": null,
      "id": "461f4d4e-95c3-4f70-b2e4-6016b1402c5c",
      "metadata": {
        "id": "461f4d4e-95c3-4f70-b2e4-6016b1402c5c"
      },
      "outputs": [],
      "source": [
        "# Variavel explicativa\n",
        "#x = df.Anos_Educ_Superior\n",
        "##x = df[[\"Interceptor\", \"Anos_Educ_Superior\"]]\n",
        "#Intercepetor (Seria o 0,0 no cartesiano)\n",
        "\n",
        "df[\"Interceptor\"] = 1\n",
        "x = df[[\"Interceptor\", \"Anos_Educ_Superior\"]]"
      ]
    },
    {
      "cell_type": "code",
      "execution_count": null,
      "id": "26826928-4286-4a32-a452-2f179ce90ee9",
      "metadata": {
        "id": "26826928-4286-4a32-a452-2f179ce90ee9"
      },
      "outputs": [],
      "source": [
        "modelo = sm.OLS(y,x)\n",
        "#apenas calcula a relação mas nao retorna o df\n",
        "resultado = modelo.fit()"
      ]
    },
    {
      "cell_type": "code",
      "execution_count": null,
      "id": "01afaf9d-6e2e-40c3-ab40-ffbd77d172e7",
      "metadata": {
        "id": "01afaf9d-6e2e-40c3-ab40-ffbd77d172e7"
      },
      "outputs": [],
      "source": [
        "print(resultado.summary())"
      ]
    },
    {
      "cell_type": "markdown",
      "id": "315a1174-0558-4cd8-bd2b-ea09d5fe9067",
      "metadata": {
        "id": "315a1174-0558-4cd8-bd2b-ea09d5fe9067"
      },
      "source": [
        "### Como avaliar\n",
        "1. Avaliar o R-Squared\n",
        "Ele é uma porcentagem em decimal que fala q explica o quanto a \"reta\" explica os casos no grafico\n",
        "(59.5% dos casos é explicado pelo modelo da reta)\n",
        "\n",
        "2. Avaliar o P > |t|\n",
        "Quanto mais proximo de 0, melhor\n",
        "\n",
        "3. Avaliar o coef\n",
        "coef do interceptor representa o 0,0 do cartesiano, ou seja, nesse caso, 4301 é o valor de alguem q entra na empresa com 0 anos de experiencia\n",
        "e a CADA ano de educ superior, adiciona 526,72\n"
      ]
    },
    {
      "cell_type": "code",
      "execution_count": null,
      "id": "aa3e3bb9-36c5-4312-bb55-b7aec7f2c7aa",
      "metadata": {
        "id": "aa3e3bb9-36c5-4312-bb55-b7aec7f2c7aa"
      },
      "outputs": [],
      "source": []
    }
  ],
  "metadata": {
    "kernelspec": {
      "display_name": "Python 3 (ipykernel)",
      "language": "python",
      "name": "python3"
    },
    "language_info": {
      "codemirror_mode": {
        "name": "ipython",
        "version": 3
      },
      "file_extension": ".py",
      "mimetype": "text/x-python",
      "name": "python",
      "nbconvert_exporter": "python",
      "pygments_lexer": "ipython3",
      "version": "3.12.4"
    },
    "colab": {
      "provenance": [],
      "include_colab_link": true
    }
  },
  "nbformat": 4,
  "nbformat_minor": 5
}